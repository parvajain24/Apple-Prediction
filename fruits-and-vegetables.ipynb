{
 "cells": [
  {
   "cell_type": "code",
   "execution_count": 30,
   "metadata": {},
   "outputs": [],
   "source": [
    "import numpy as np\n",
    "import pandas as pd \n",
    "import matplotlib.pyplot as plt\n",
    "import matplotlib.image as image\n",
    "import seaborn as sns\n",
    "import tensorflow as tf\n",
    "from keras.preprocessing.image import ImageDataGenerator, img_to_array, load_img\n",
    "from keras.models import Sequential, load_model\n",
    "from keras.layers import Dense\n",
    "from glob import glob\n",
    "from keras.layers.advanced_activations import ReLU\n",
    "from keras.models import Sequential, Model\n",
    "from keras.layers import Activation, Convolution2D, MaxPooling2D, BatchNormalization, Flatten, Dense, Dropout, Conv2D,MaxPool2D, ZeroPadding2D"
   ]
  },
  {
   "cell_type": "markdown",
   "metadata": {},
   "source": [
    "# Loading the Directories"
   ]
  },
  {
   "cell_type": "code",
   "execution_count": 3,
   "metadata": {},
   "outputs": [],
   "source": [
    "test_dir = \"C://Users//parva//Downloads//archive//fruits-360//Test\"\n",
    "train_dir =  \"C://Users//parva//Downloads//archive//fruits-360//Training\""
   ]
  },
  {
   "cell_type": "code",
   "execution_count": 4,
   "metadata": {},
   "outputs": [
    {
     "name": "stdout",
     "output_type": "stream",
     "text": [
      "Found 6404 images belonging to 13 classes.\n",
      "Found 2134 images belonging to 13 classes.\n"
     ]
    }
   ],
   "source": [
    "train = ImageDataGenerator().flow_from_directory(train_dir, target_size = (100,100))\n",
    "test = ImageDataGenerator().flow_from_directory(test_dir, target_size = (100,100))"
   ]
  },
  {
   "cell_type": "markdown",
   "metadata": {},
   "source": [
    "# Model"
   ]
  },
  {
   "cell_type": "code",
   "execution_count": 5,
   "metadata": {},
   "outputs": [],
   "source": [
    "model = Sequential()"
   ]
  },
  {
   "cell_type": "code",
   "execution_count": 6,
   "metadata": {},
   "outputs": [],
   "source": [
    "num_classes = 13"
   ]
  },
  {
   "cell_type": "code",
   "execution_count": 7,
   "metadata": {},
   "outputs": [
    {
     "name": "stdout",
     "output_type": "stream",
     "text": [
      "WARNING:tensorflow:From C:\\Users\\parva\\Anaconda3\\lib\\site-packages\\keras\\backend\\tensorflow_backend.py:4070: The name tf.nn.max_pool is deprecated. Please use tf.nn.max_pool2d instead.\n",
      "\n",
      "Model: \"sequential_1\"\n",
      "_________________________________________________________________\n",
      "Layer (type)                 Output Shape              Param #   \n",
      "=================================================================\n",
      "conv2d_1 (Conv2D)            (None, 100, 100, 32)      864       \n",
      "_________________________________________________________________\n",
      "max_pooling2d_1 (MaxPooling2 (None, 50, 50, 32)        0         \n",
      "_________________________________________________________________\n",
      "conv2d_2 (Conv2D)            (None, 50, 50, 32)        9216      \n",
      "_________________________________________________________________\n",
      "max_pooling2d_2 (MaxPooling2 (None, 25, 25, 32)        0         \n",
      "_________________________________________________________________\n",
      "conv2d_3 (Conv2D)            (None, 25, 25, 64)        18432     \n",
      "_________________________________________________________________\n",
      "max_pooling2d_3 (MaxPooling2 (None, 12, 12, 64)        0         \n",
      "_________________________________________________________________\n",
      "flatten_1 (Flatten)          (None, 9216)              0         \n",
      "_________________________________________________________________\n",
      "dense_1 (Dense)              (None, 128)               1179776   \n",
      "_________________________________________________________________\n",
      "dropout_1 (Dropout)          (None, 128)               0         \n",
      "_________________________________________________________________\n",
      "dense_2 (Dense)              (None, 13)                1677      \n",
      "=================================================================\n",
      "Total params: 1,209,965\n",
      "Trainable params: 1,209,965\n",
      "Non-trainable params: 0\n",
      "_________________________________________________________________\n"
     ]
    }
   ],
   "source": [
    "model.add(Convolution2D(32, (3,3), activation = 'relu', padding='same', use_bias=False, input_shape=(100,100,3)))\n",
    "model.add(MaxPool2D(pool_size=(2, 2)))\n",
    "\n",
    "model.add(Convolution2D(32, (3,3), activation = 'relu', padding='same', use_bias=False))\n",
    "model.add(MaxPool2D(pool_size=(2, 2)))\n",
    "\n",
    "model.add(Convolution2D(64, (3,3), activation = 'relu', padding='same', use_bias=False))\n",
    "model.add(MaxPool2D(pool_size=(2, 2)))\n",
    "\n",
    "\n",
    "model.add(Flatten())\n",
    "model.add(Dense(128,activation='relu'))\n",
    "model.add(Dropout(0.5))\n",
    "model.add(Dense(num_classes,activation = 'softmax'))\n",
    "model.summary()"
   ]
  },
  {
   "cell_type": "code",
   "execution_count": 8,
   "metadata": {},
   "outputs": [],
   "source": [
    "model.compile(optimizer = 'rmsprop',\n",
    "              loss = \"categorical_crossentropy\",\n",
    "              metrics = [\"accuracy\"])\n"
   ]
  },
  {
   "cell_type": "code",
   "execution_count": 9,
   "metadata": {},
   "outputs": [],
   "source": [
    "batch_size = 32"
   ]
  },
  {
   "cell_type": "code",
   "execution_count": 28,
   "metadata": {},
   "outputs": [
    {
     "name": "stdout",
     "output_type": "stream",
     "text": [
      "Epoch 1/5\n",
      "200/200 [==============================] - 48s 240ms/step - loss: 0.1845 - accuracy: 0.9670 - val_loss: 0.0022 - val_accuracy: 0.9882\n",
      "Epoch 2/5\n",
      "200/200 [==============================] - 49s 243ms/step - loss: 0.1131 - accuracy: 0.9805 - val_loss: 0.4148 - val_accuracy: 0.8987\n",
      "Epoch 3/5\n",
      "200/200 [==============================] - 48s 242ms/step - loss: 0.1403 - accuracy: 0.9791 - val_loss: 0.0063 - val_accuracy: 0.9629\n",
      "Epoch 4/5\n",
      "200/200 [==============================] - 47s 237ms/step - loss: 0.1079 - accuracy: 0.9837 - val_loss: 1.8578 - val_accuracy: 0.9125\n",
      "Epoch 5/5\n",
      "200/200 [==============================] - 48s 241ms/step - loss: 0.1756 - accuracy: 0.9840 - val_loss: 0.2694 - val_accuracy: 0.9729\n"
     ]
    },
    {
     "data": {
      "text/plain": [
       "<keras.callbacks.callbacks.History at 0x1e61a023688>"
      ]
     },
     "execution_count": 28,
     "metadata": {},
     "output_type": "execute_result"
    }
   ],
   "source": [
    "model.fit(train,\n",
    "         steps_per_epoch = 6404//batch_size,\n",
    "         epochs = 5,\n",
    "         validation_data = test,\n",
    "         validation_steps = 2134//batch_size)"
   ]
  },
  {
   "cell_type": "code",
   "execution_count": null,
   "metadata": {},
   "outputs": [],
   "source": []
  },
  {
   "cell_type": "markdown",
   "metadata": {},
   "source": [
    "## Model Evaluation"
   ]
  },
  {
   "cell_type": "code",
   "execution_count": 31,
   "metadata": {},
   "outputs": [
    {
     "name": "stdout",
     "output_type": "stream",
     "text": [
      "67/67 [==============================] - 4s 53ms/step\n"
     ]
    },
    {
     "data": {
      "text/plain": [
       "[1.517207834922374e-07, 0.9732896089553833]"
      ]
     },
     "execution_count": 31,
     "metadata": {},
     "output_type": "execute_result"
    }
   ],
   "source": [
    "model.evaluate(test)"
   ]
  },
  {
   "cell_type": "markdown",
   "metadata": {},
   "source": [
    "## Working with the model"
   ]
  },
  {
   "cell_type": "code",
   "execution_count": 32,
   "metadata": {},
   "outputs": [],
   "source": [
    "classes = list(train.class_indices)"
   ]
  },
  {
   "cell_type": "code",
   "execution_count": 33,
   "metadata": {},
   "outputs": [
    {
     "data": {
      "text/plain": [
       "['Apple Braeburn',\n",
       " 'Apple Crimson Snow',\n",
       " 'Apple Golden 1',\n",
       " 'Apple Golden 2',\n",
       " 'Apple Golden 3',\n",
       " 'Apple Granny Smith',\n",
       " 'Apple Pink Lady',\n",
       " 'Apple Red 1',\n",
       " 'Apple Red 2',\n",
       " 'Apple Red 3',\n",
       " 'Apple Red Delicious',\n",
       " 'Apple Red Yellow 1',\n",
       " 'Apple Red Yellow 2']"
      ]
     },
     "execution_count": 33,
     "metadata": {},
     "output_type": "execute_result"
    }
   ],
   "source": [
    "classes"
   ]
  },
  {
   "cell_type": "code",
   "execution_count": 34,
   "metadata": {},
   "outputs": [
    {
     "data": {
      "text/plain": [
       "<matplotlib.image.AxesImage at 0x1e61a04b548>"
      ]
     },
     "execution_count": 34,
     "metadata": {},
     "output_type": "execute_result"
    },
    {
     "data": {
      "image/png": "[encoded data removed]",
      "text/plain": [
       "<Figure size 432x288 with 1 Axes>"
      ]
     },
     "metadata": {
      "needs_background": "light"
     },
     "output_type": "display_data"
    }
   ],
   "source": [
    "x = plt.imread(\"C:/Users/parva/Downloads/archive/fruits-360/Test/Apple Braeburn/3_100.jpg\")\n",
    "plt.imshow(x)"
   ]
  },
  {
   "cell_type": "code",
   "execution_count": 35,
   "metadata": {},
   "outputs": [
    {
     "name": "stdout",
     "output_type": "stream",
     "text": [
      "Apple Braeburn\n"
     ]
    }
   ],
   "source": [
    "x = x/255\n",
    "x = np.resize(x,(131,100,100,3))\n",
    "x.shape\n",
    "print(classes[np.argmax(model.predict(x))])"
   ]
  },
  {
   "cell_type": "code",
   "execution_count": 36,
   "metadata": {},
   "outputs": [],
   "source": [
    "pred_album = pd.DataFrame(columns = [\"item_id\",\"prediction\"])\n",
    "for item in os.listdir(\"C:/Users/parva/Downloads/archive/fruits-360/test-multiple_fruits\"):\n",
    "    x = plt.imread(\"C:/Users/parva/Downloads/archive/fruits-360/test-multiple_fruits\" + \"/\" + item)\n",
    "    x = np.resize(x,(131,100,100,3))\n",
    "    pred_album = pred_album.append({\"item_id\":item,\"prediction\":classes[np.argmax(model.predict(x)[0])]},ignore_index = True)\n",
    "pred_album.to_csv(\"predictions.csv\")\n"
   ]
  },
  {
   "cell_type": "code",
   "execution_count": 38,
   "metadata": {},
   "outputs": [
    {
     "data": {
      "text/html": [
       "<div>\n",
       "<style scoped>\n",
       "    .dataframe tbody tr th:only-of-type {\n",
       "        vertical-align: middle;\n",
       "    }\n",
       "\n",
       "    .dataframe tbody tr th {\n",
       "        vertical-align: top;\n",
       "    }\n",
       "\n",
       "    .dataframe thead th {\n",
       "        text-align: right;\n",
       "    }\n",
       "</style>\n",
       "<table border=\"1\" class=\"dataframe\">\n",
       "  <thead>\n",
       "    <tr style=\"text-align: right;\">\n",
       "      <th></th>\n",
       "      <th>Unnamed: 0</th>\n",
       "      <th>item_id</th>\n",
       "      <th>prediction</th>\n",
       "    </tr>\n",
       "  </thead>\n",
       "  <tbody>\n",
       "    <tr>\n",
       "      <td>0</td>\n",
       "      <td>0</td>\n",
       "      <td>apple.jpg</td>\n",
       "      <td>Apple Red Yellow 2</td>\n",
       "    </tr>\n",
       "    <tr>\n",
       "      <td>1</td>\n",
       "      <td>1</td>\n",
       "      <td>apples1.jpg</td>\n",
       "      <td>Apple Pink Lady</td>\n",
       "    </tr>\n",
       "    <tr>\n",
       "      <td>2</td>\n",
       "      <td>2</td>\n",
       "      <td>apples2.jpg</td>\n",
       "      <td>Apple Red Yellow 2</td>\n",
       "    </tr>\n",
       "    <tr>\n",
       "      <td>3</td>\n",
       "      <td>3</td>\n",
       "      <td>apples3.jpg</td>\n",
       "      <td>Apple Red Yellow 1</td>\n",
       "    </tr>\n",
       "    <tr>\n",
       "      <td>4</td>\n",
       "      <td>4</td>\n",
       "      <td>apples4.jpg</td>\n",
       "      <td>Apple Red Delicious</td>\n",
       "    </tr>\n",
       "    <tr>\n",
       "      <td>5</td>\n",
       "      <td>5</td>\n",
       "      <td>apples_peaches1.jpg</td>\n",
       "      <td>Apple Red Yellow 2</td>\n",
       "    </tr>\n",
       "    <tr>\n",
       "      <td>6</td>\n",
       "      <td>6</td>\n",
       "      <td>apples_peaches2.jpg</td>\n",
       "      <td>Apple Red Yellow 2</td>\n",
       "    </tr>\n",
       "    <tr>\n",
       "      <td>7</td>\n",
       "      <td>7</td>\n",
       "      <td>apples_pears.jpg</td>\n",
       "      <td>Apple Red Yellow 2</td>\n",
       "    </tr>\n",
       "    <tr>\n",
       "      <td>8</td>\n",
       "      <td>8</td>\n",
       "      <td>apple_apricot_nectarine_peach_peach(flat)_pome...</td>\n",
       "      <td>Apple Golden 2</td>\n",
       "    </tr>\n",
       "    <tr>\n",
       "      <td>9</td>\n",
       "      <td>9</td>\n",
       "      <td>apple_apricot_peach_peach(flat)_pomegranate_pe...</td>\n",
       "      <td>Apple Golden 2</td>\n",
       "    </tr>\n",
       "    <tr>\n",
       "      <td>10</td>\n",
       "      <td>10</td>\n",
       "      <td>apple_apricot_peach_peach(flat)_pomegranate_pe...</td>\n",
       "      <td>Apple Red Yellow 2</td>\n",
       "    </tr>\n",
       "    <tr>\n",
       "      <td>11</td>\n",
       "      <td>11</td>\n",
       "      <td>apple_apricot_peach_peach(flat)_pomegranate_pe...</td>\n",
       "      <td>Apple Red Yellow 2</td>\n",
       "    </tr>\n",
       "    <tr>\n",
       "      <td>12</td>\n",
       "      <td>12</td>\n",
       "      <td>apple_grape.jpg</td>\n",
       "      <td>Apple Red Yellow 2</td>\n",
       "    </tr>\n",
       "    <tr>\n",
       "      <td>13</td>\n",
       "      <td>13</td>\n",
       "      <td>apple_grape2.jpg</td>\n",
       "      <td>Apple Red Yellow 2</td>\n",
       "    </tr>\n",
       "    <tr>\n",
       "      <td>14</td>\n",
       "      <td>14</td>\n",
       "      <td>apple_pear.jpg</td>\n",
       "      <td>Apple Red Yellow 2</td>\n",
       "    </tr>\n",
       "    <tr>\n",
       "      <td>15</td>\n",
       "      <td>15</td>\n",
       "      <td>download (1).jpg</td>\n",
       "      <td>Apple Red Delicious</td>\n",
       "    </tr>\n",
       "    <tr>\n",
       "      <td>16</td>\n",
       "      <td>16</td>\n",
       "      <td>download (2).jpg</td>\n",
       "      <td>Apple Golden 2</td>\n",
       "    </tr>\n",
       "    <tr>\n",
       "      <td>17</td>\n",
       "      <td>17</td>\n",
       "      <td>download.jpg</td>\n",
       "      <td>Apple Red Yellow 2</td>\n",
       "    </tr>\n",
       "    <tr>\n",
       "      <td>18</td>\n",
       "      <td>18</td>\n",
       "      <td>download1.jpg</td>\n",
       "      <td>Apple Red Delicious</td>\n",
       "    </tr>\n",
       "  </tbody>\n",
       "</table>\n",
       "</div>"
      ],
      "text/plain": [
       "    Unnamed: 0                                            item_id  \\\n",
       "0            0                                          apple.jpg   \n",
       "1            1                                        apples1.jpg   \n",
       "2            2                                        apples2.jpg   \n",
       "3            3                                        apples3.jpg   \n",
       "4            4                                        apples4.jpg   \n",
       "5            5                                apples_peaches1.jpg   \n",
       "6            6                                apples_peaches2.jpg   \n",
       "7            7                                   apples_pears.jpg   \n",
       "8            8  apple_apricot_nectarine_peach_peach(flat)_pome...   \n",
       "9            9  apple_apricot_peach_peach(flat)_pomegranate_pe...   \n",
       "10          10  apple_apricot_peach_peach(flat)_pomegranate_pe...   \n",
       "11          11  apple_apricot_peach_peach(flat)_pomegranate_pe...   \n",
       "12          12                                    apple_grape.jpg   \n",
       "13          13                                   apple_grape2.jpg   \n",
       "14          14                                     apple_pear.jpg   \n",
       "15          15                                   download (1).jpg   \n",
       "16          16                                   download (2).jpg   \n",
       "17          17                                       download.jpg   \n",
       "18          18                                      download1.jpg   \n",
       "\n",
       "             prediction  \n",
       "0    Apple Red Yellow 2  \n",
       "1       Apple Pink Lady  \n",
       "2    Apple Red Yellow 2  \n",
       "3    Apple Red Yellow 1  \n",
       "4   Apple Red Delicious  \n",
       "5    Apple Red Yellow 2  \n",
       "6    Apple Red Yellow 2  \n",
       "7    Apple Red Yellow 2  \n",
       "8        Apple Golden 2  \n",
       "9        Apple Golden 2  \n",
       "10   Apple Red Yellow 2  \n",
       "11   Apple Red Yellow 2  \n",
       "12   Apple Red Yellow 2  \n",
       "13   Apple Red Yellow 2  \n",
       "14   Apple Red Yellow 2  \n",
       "15  Apple Red Delicious  \n",
       "16       Apple Golden 2  \n",
       "17   Apple Red Yellow 2  \n",
       "18  Apple Red Delicious  "
      ]
     },
     "execution_count": 38,
     "metadata": {},
     "output_type": "execute_result"
    }
   ],
   "source": [
    "pd.read_csv(\"predictions.csv\")"
   ]
  },
  {
   "cell_type": "code",
   "execution_count": null,
   "metadata": {},
   "outputs": [],
   "source": []
  }
 ],
 "metadata": {
  "kernelspec": {
   "display_name": "Python 3",
   "language": "python",
   "name": "python3"
  },
  "language_info": {
   "codemirror_mode": {
    "name": "ipython",
    "version": 3
   },
   "file_extension": ".py",
   "mimetype": "text/x-python",
   "name": "python",
   "nbconvert_exporter": "python",
   "pygments_lexer": "ipython3",
   "version": "3.7.4"
  }
 },
 "nbformat": 4,
 "nbformat_minor": 4
}
